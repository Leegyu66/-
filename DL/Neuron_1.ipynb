{
  "nbformat": 4,
  "nbformat_minor": 0,
  "metadata": {
    "colab": {
      "provenance": [],
      "include_colab_link": true
    },
    "kernelspec": {
      "name": "python3",
      "display_name": "Python 3"
    },
    "language_info": {
      "name": "python"
    },
    "accelerator": "GPU",
    "gpuClass": "standard"
  },
  "cells": [
    {
      "cell_type": "markdown",
      "metadata": {
        "id": "view-in-github",
        "colab_type": "text"
      },
      "source": [
        "<a href=\"https://colab.research.google.com/github/Leegyu66/ML-and-DL-beginner/blob/main/Neuron_1.ipynb\" target=\"_parent\"><img src=\"https://colab.research.google.com/assets/colab-badge.svg\" alt=\"Open In Colab\"/></a>"
      ]
    },
    {
      "cell_type": "code",
      "source": [
        "neuron = LogisticNeuron()\n",
        "neuron.fit(x_train, y_train)\n",
        "\n",
        "np.mean(neuron.predict(x_test) == y_test)"
      ],
      "metadata": {
        "colab": {
          "base_uri": "https://localhost:8080/"
        },
        "id": "ZnkszL61xTKe",
        "outputId": "92db4f10-c1c3-4bf6-a3f5-d49bbd360458"
      },
      "execution_count": 4,
      "outputs": [
        {
          "output_type": "stream",
          "name": "stderr",
          "text": [
            "<ipython-input-3-50557eccee5c>:39: RuntimeWarning: overflow encountered in exp\n",
            "  a = 1 / (1 + np.exp(-z))\n"
          ]
        },
        {
          "output_type": "execute_result",
          "data": {
            "text/plain": [
              "0.8245614035087719"
            ]
          },
          "metadata": {},
          "execution_count": 4
        }
      ]
    },
    {
      "cell_type": "code",
      "source": [
        "from sklearn.datasets import load_breast_cancer\n",
        "import numpy as np\n",
        "cancer = load_breast_cancer()\n",
        "\n",
        "x = cancer.data\n",
        "y = cancer.target\n",
        "\n",
        "from sklearn.model_selection import train_test_split\n",
        "x_train, x_test, y_train, y_test = train_test_split(x, y, stratify=y, test_size=0.2, random_state=42)\n",
        "\n",
        "class SingleLayer:\n",
        "\n",
        "  def __init__(self):\n",
        "    self.w = None\n",
        "    self.b = None\n",
        "    self.losses = []\n",
        "\n",
        "  def forpass(self, x):\n",
        "    z = np.sum(x * self.w) + self.b\n",
        "    return z\n",
        "\n",
        "  def backprop(self, x, err):\n",
        "    w_grad = x * err\n",
        "    b_grad = 1 * err\n",
        "    return w_grad, b_grad\n",
        "  \n",
        "  def fit(self, x, y, epochs=100):\n",
        "    self.w = np.ones(x.shape[1])\n",
        "    self.b = 0\n",
        "    for i in range(epochs):\n",
        "      loss = 0\n",
        "      indexes = np.random.permutation(np.arange(len(x)))\n",
        "      for i in indexes:\n",
        "        z = self.forpass(x[i])\n",
        "        a = self.activation(z)\n",
        "        err = -(y[i] - a)\n",
        "        w_grad, b_grad = self.backprop(x[i], err)\n",
        "        self.w -= w_grad\n",
        "        self.b -= b_grad\n",
        "        a = np.clip(a, 1e-10, 1-1e-10)\n",
        "        loss += -(y[i]*np.log(a)+(1-y[i])*np.log(1-a))\n",
        "      self.losses.append(loss/len(y))\n",
        "\n",
        "  def activation(self, z):\n",
        "    a = 1 / (1 + np.exp(-z))\n",
        "    return a\n",
        "  \n",
        "  def predict(self, x):\n",
        "    z = [self.forpass(x_i) for x_i in x]\n",
        "    return np.array(z) > 0\n",
        "\n",
        "  def score(self, x, y):\n",
        "    return np.mean(self.predict(x) == y)\n"
      ],
      "metadata": {
        "id": "qfzZ16zIv0w_"
      },
      "execution_count": 6,
      "outputs": []
    },
    {
      "cell_type": "code",
      "source": [
        "layer = SingleLayer()\n",
        "layer.fit(x_train, y_train)\n",
        "layer.score(x_test, y_test)"
      ],
      "metadata": {
        "colab": {
          "base_uri": "https://localhost:8080/"
        },
        "id": "RyY2HqI7zcjq",
        "outputId": "ab10aa9b-30c2-48b3-9c5a-42ea10823e47"
      },
      "execution_count": 7,
      "outputs": [
        {
          "output_type": "stream",
          "name": "stderr",
          "text": [
            "<ipython-input-6-322c8a415b51>:45: RuntimeWarning: overflow encountered in exp\n",
            "  a = 1 / (1 + np.exp(-z))\n"
          ]
        },
        {
          "output_type": "execute_result",
          "data": {
            "text/plain": [
              "0.9385964912280702"
            ]
          },
          "metadata": {},
          "execution_count": 7
        }
      ]
    },
    {
      "cell_type": "code",
      "source": [
        "from matplotlib import pyplot as plt\n",
        "\n",
        "plt.plot(layer.losses)\n",
        "plt.xlabel('epoch')\n",
        "plt.ylabel('loss')\n",
        "plt.show()"
      ],
      "metadata": {
        "colab": {
          "base_uri": "https://localhost:8080/",
          "height": 279
        },
        "id": "z2u9lt0mzXaz",
        "outputId": "0d6c3dae-2179-433a-9357-b9a99d729863"
      },
      "execution_count": 9,
      "outputs": [
        {
          "output_type": "display_data",
          "data": {
            "text/plain": [
              "<Figure size 432x288 with 1 Axes>"
            ],
            "image/png": "[encoded data removed]"
          },
          "metadata": {
            "needs_background": "light"
          }
        }
      ]
    },
    {
      "cell_type": "markdown",
      "source": [
        "## 사이킷런으로 경사 하강법 적용하기"
      ],
      "metadata": {
        "id": "tAtUCDW4z338"
      }
    },
    {
      "cell_type": "code",
      "source": [
        "from sklearn.linear_model import SGDClassifier\n",
        "sgd = SGDClassifier(loss='log', max_iter=100, tol=1e-3, random_state=42)\n",
        "# 손실함수, 반복 횟수, 손실 값이 1e-3만큼 줄어야지 종료, 랜덤시드"
      ],
      "metadata": {
        "id": "uxmtTiUsz6RY"
      },
      "execution_count": 10,
      "outputs": []
    },
    {
      "cell_type": "code",
      "source": [
        "sgd.fit(x_train, y_train)\n",
        "sgd.score(x_test, y_test)"
      ],
      "metadata": {
        "colab": {
          "base_uri": "https://localhost:8080/"
        },
        "id": "xXim0zrp0XHW",
        "outputId": "946b1fac-cdc4-487d-d986-f94d4bafd417"
      },
      "execution_count": 11,
      "outputs": [
        {
          "output_type": "stream",
          "name": "stderr",
          "text": [
            "/usr/local/lib/python3.8/dist-packages/sklearn/linear_model/_stochastic_gradient.py:163: FutureWarning: The loss 'log' was deprecated in v1.1 and will be removed in version 1.3. Use `loss='log_loss'` which is equivalent.\n",
            "  warnings.warn(\n"
          ]
        },
        {
          "output_type": "execute_result",
          "data": {
            "text/plain": [
              "0.8333333333333334"
            ]
          },
          "metadata": {},
          "execution_count": 11
        }
      ]
    },
    {
      "cell_type": "code",
      "source": [
        "sgd.predict(x_test[0:10])"
      ],
      "metadata": {
        "colab": {
          "base_uri": "https://localhost:8080/"
        },
        "id": "FIw2poTJ0d_p",
        "outputId": "952b817a-de09-4d1b-f5a2-9fb09cad5525"
      },
      "execution_count": 12,
      "outputs": [
        {
          "output_type": "execute_result",
          "data": {
            "text/plain": [
              "array([0, 1, 0, 0, 0, 0, 1, 0, 0, 0])"
            ]
          },
          "metadata": {},
          "execution_count": 12
        }
      ]
    },
    {
      "cell_type": "markdown",
      "source": [
        "## 여러 가지 경사 하강법\n",
        "### 확률적 경사 하강법\n",
        "- 샘플들 중 1개의 샘플을 중복되지 않도록 무작위로 선택 후 그레이디언트를 계산한다\n",
        "### 배치 경사 하강법\n",
        "#### 미니 배치 경사 하강법\n",
        "- 샘플을 몇 개 씩 여러 번 나누어 처리하는 방식이다\n",
        "#### 배치 경사 하강법\n",
        "- 샘플을 모두 선택해서 처리하는 방식이다\n",
        "\n",
        "![확률적 경사 하강법.jpg](data:image/jpeg;base64,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)"
      ],
      "metadata": {
        "id": "ZvG9g5jJtEs8"
      }
    },
    {
      "cell_type": "markdown",
      "source": [
        "- 확률적 경사 하강법이 배치 경사 하강법에 비해 계산 비용은 덜 든다(1개씩 계산하기 때문)\n",
        "- 하지만 가중치가 최적값에 수렴하는 과정이 불안하다\n",
        "- 배치 경사 하강법은 샘플을 모두 처리하기 때문에 가중치가 최적값에 수렴하는 과정이 안정적이다\n",
        "- 하지만 계산 비용이 많이 든다\n",
        "- 이러한 장단점을 보완한 방식이 **미니 배치 경사 하강법**이다"
      ],
      "metadata": {
        "id": "976V7oy0upYJ"
      }
    }
  ]
}
