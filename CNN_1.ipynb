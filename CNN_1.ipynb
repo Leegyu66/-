{
  "nbformat": 4,
  "nbformat_minor": 0,
  "metadata": {
    "colab": {
      "provenance": [],
      "authorship_tag": "ABX9TyOnv4q1YdSgaZfnV22twPnn",
      "include_colab_link": true
    },
    "kernelspec": {
      "name": "python3",
      "display_name": "Python 3"
    },
    "language_info": {
      "name": "python"
    }
  },
  "cells": [
    {
      "cell_type": "markdown",
      "metadata": {
        "id": "view-in-github",
        "colab_type": "text"
      },
      "source": [
        "<a href=\"https://colab.research.google.com/github/Leegyu66/ML-and-DL-beginner/blob/main/CNN_1.ipynb\" target=\"_parent\"><img src=\"https://colab.research.google.com/assets/colab-badge.svg\" alt=\"Open In Colab\"/></a>"
      ]
    },
    {
      "cell_type": "markdown",
      "source": [
        "## 합성곱 신경망(CNN)\n",
        "- 인공 신경망은 가중치 w1~w10과 절편 b를 랜덤하게 초기화한 후 에포크를 반복하여 손실이 낮아지도록 최적의 가중치를 찾아감\n",
        "- ex.밀집층에 뉴런이 3개가 있다면 출력은 3개가 된다\n",
        "- 합성곱은 입력 데이터 전체에 가중치를 적용하는게 아니라 일부에만 가중치를 곱한다\n",
        "- 1차원뿐만 아니라 2차원 입력에도 적용할 수 있다는 장점이 있다"
      ],
      "metadata": {
        "id": "gRpWyrYatd1E"
      }
    },
    {
      "cell_type": "code",
      "execution_count": 1,
      "metadata": {
        "colab": {
          "base_uri": "https://localhost:8080/"
        },
        "id": "aHQw-4lHs578",
        "outputId": "d2fe8742-2304-48c4-a308-c7cfe837609f"
      },
      "outputs": [
        {
          "output_type": "execute_result",
          "data": {
            "text/plain": [
              "<keras.layers.convolutional.conv2d.Conv2D at 0x7f6bb6596a30>"
            ]
          },
          "metadata": {},
          "execution_count": 1
        }
      ],
      "source": [
        "from tensorflow import keras\n",
        "keras.layers.Conv2D(10, kernel_size=(3, 3), activation='relu') # 필터 갯수 10개, 커널의 사이즈는 3x3(주로 3x3이나 5x5를 많이 쓴다), 활성화 함수는 relu로 지정정"
      ]
    },
    {
      "cell_type": "markdown",
      "source": [
        "## 패딩과 스트라이드\n",
        "- 합성곱 계산은 (4, 4) 크기의 입력에 (3, 3) 크기의 커널을 적용하여 (2, 2) 크기의 특성 맵을 만들었다\n",
        "- 커널 크기를 (3, 3)으로 두고 출력의 크기를 입력과 동일하게 (4, 4)로 만들려면 어떻게 해야할까\n",
        "- 정답은 입력을 더 크게 만드는 것이다.\n",
        "- (4, 4)의 입력을 (6, 6)으로 늘려서 (3, 3) 크기의 커널을 적용하여 (4, 4)의 특성 맵을 만드는 것이다.\n",
        "### 세임 패딩\n",
        "- (6, 6)으로 늘릴 때 주변을 0으로 채운다. 이러한 가상의 원소로 채우는 것을 패딩이라고 한다. \n",
        "- 순전히 계산 횟수만 늘려줌 (계산의 영향을 안미침)\n",
        "### 밸리드 패딩\n",
        "- 패딩 없이 순수한 입력 배열에서만 합성곱을 하여 특성 맵을 만드는 것\n",
        "- 특성 맵의 크기가 줄어들 수 밖에 없음"
      ],
      "metadata": {
        "id": "GVaXX-v21zVx"
      }
    },
    {
      "cell_type": "code",
      "source": [
        "keras.layers.Conv2D(10, kernel_size=(3, 3), activation='relu', padding='same') # 세임 패딩 추가"
      ],
      "metadata": {
        "colab": {
          "base_uri": "https://localhost:8080/"
        },
        "id": "XNi-fAgB0r6E",
        "outputId": "6c61e793-b271-48c2-9283-2a84d95045cd"
      },
      "execution_count": 2,
      "outputs": [
        {
          "output_type": "execute_result",
          "data": {
            "text/plain": [
              "<keras.layers.convolutional.conv2d.Conv2D at 0x7f6b8f00a0d0>"
            ]
          },
          "metadata": {},
          "execution_count": 2
        }
      ]
    },
    {
      "cell_type": "markdown",
      "source": [
        "## 스트라이드\n",
        "- 합성곱을 좌우, 위아래 한 칸씩 이동했다\n",
        "- 하지만 이러한 이동의 크기를 조절할 수 있는데 이것을 스트라이드라고 부른다\n",
        "- 이동의 크기를 크게할 수록 특성 맵의 크기는 작아진다"
      ],
      "metadata": {
        "id": "992FEThb5T19"
      }
    },
    {
      "cell_type": "code",
      "source": [
        "keras.layers.Conv2D(10, kernel_size=(3, 3), activation='relu', padding='same', strides=1) # 스트라이드를 1로 지정"
      ],
      "metadata": {
        "colab": {
          "base_uri": "https://localhost:8080/"
        },
        "id": "EdqdR0Hr5HYt",
        "outputId": "70e94553-cb5a-421f-c706-0bc24374148d"
      },
      "execution_count": 5,
      "outputs": [
        {
          "output_type": "execute_result",
          "data": {
            "text/plain": [
              "<keras.layers.convolutional.conv2d.Conv2D at 0x7f6b8ef51dc0>"
            ]
          },
          "metadata": {},
          "execution_count": 5
        }
      ]
    },
    {
      "cell_type": "markdown",
      "source": [
        "## 풀링\n",
        "### 특성 맵의 가로세로 크기를 줄이는 기능을 함\n",
        "- 차원은 유지하되 크기만 줄인다\n",
        "- 풀링도 합성곱처럼 입력 위를 지나면서 도장을 찍는다. 하지만 풀링에는 가중치가 없다\n",
        "- 도장을 찍은 영역에서 가장 큰 값 or 평균 값을 계산한다.\n",
        "- 합성곱 신경망에서는 합성곱 층과 풀링 층에서 출력되는 값을 모두 특성 맵이라고 부른다다"
      ],
      "metadata": {
        "id": "6FW_k-tb5x4B"
      }
    },
    {
      "cell_type": "code",
      "source": [
        "keras.layers.MaxPooling2D(2) # 2x2 풀링"
      ],
      "metadata": {
        "colab": {
          "base_uri": "https://localhost:8080/"
        },
        "id": "eEdoGCsq5sXj",
        "outputId": "12f0857d-930d-4869-b431-fb7728fee0ec"
      },
      "execution_count": 4,
      "outputs": [
        {
          "output_type": "execute_result",
          "data": {
            "text/plain": [
              "<keras.layers.pooling.max_pooling2d.MaxPooling2D at 0x7f6b8ef21d60>"
            ]
          },
          "metadata": {},
          "execution_count": 4
        }
      ]
    },
    {
      "cell_type": "code",
      "source": [
        "keras.layers.MaxPooling2D(2, strides=2, padding='valid') # 2칸씩 이동, 패딩 없음 최댓 값 풀링\n",
        "keras.layers.AveragePooling2D(2, strides=2) # 평균 값 풀링"
      ],
      "metadata": {
        "colab": {
          "base_uri": "https://localhost:8080/"
        },
        "id": "ta2PRCmY7F1D",
        "outputId": "d5deda70-4ef1-43f8-e7d3-2fe10a3bf6dc"
      },
      "execution_count": 7,
      "outputs": [
        {
          "output_type": "execute_result",
          "data": {
            "text/plain": [
              "<keras.layers.pooling.max_pooling2d.MaxPooling2D at 0x7f6b8ef21a30>"
            ]
          },
          "metadata": {},
          "execution_count": 7
        }
      ]
    },
    {
      "cell_type": "code",
      "source": [],
      "metadata": {
        "id": "xvd2Xw9O7Xur"
      },
      "execution_count": null,
      "outputs": []
    }
  ]
}